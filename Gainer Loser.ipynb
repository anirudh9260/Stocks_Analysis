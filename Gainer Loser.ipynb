{
 "cells": [
  {
   "cell_type": "code",
   "execution_count": 7,
   "metadata": {},
   "outputs": [],
   "source": [
    "import glob\n",
    "import numpy as np\n",
    "import pandas as pd\n",
    "from datetime import  date\n",
    "import datetime\n",
    "import matplotlib.pyplot as plt\n",
    "import plotly.express as px\n",
    "import os\n",
    "from talib import RSI, BBANDS\n",
    "\n",
    "import talib\n"
   ]
  },
  {
   "cell_type": "code",
   "execution_count": 8,
   "metadata": {},
   "outputs": [],
   "source": [
    "data_path =  os.path.join(os.getcwd(),\"nse_data\\\\data\\\\\")\n",
    "data_index = os.path.join(os.getcwd(),\"nse_data\\\\index_data\\\\\")\n",
    "dump_path =  os.path.join(os.getcwd(),\"nse_data\\\\dump\\\\\")\n",
    "meta_data =  os.path.join(os.getcwd(),\"nse_data\\\\meta_data\\\\\")\n",
    "reports_path = os.path.join(os.getcwd(),\"nse_data\\\\reports\\\\\")\n",
    "nse_indices = os.path.join(os.getcwd(),\"nse_data\\\\nse_indices\\\\\")\n",
    "# print(nse_indices)"
   ]
  },
  {
   "cell_type": "code",
   "execution_count": 9,
   "metadata": {},
   "outputs": [
    {
     "data": {
      "text/plain": [
       "501"
      ]
     },
     "execution_count": 9,
     "metadata": {},
     "output_type": "execute_result"
    }
   ],
   "source": [
    "nifty500_df = pd.read_csv(os.path.join(nse_indices, \"ind_nifty500list.csv\"))\n",
    "stocks_list = nifty500_df.Symbol.tolist()\n",
    "len(stocks_list)"
   ]
  },
  {
   "cell_type": "code",
   "execution_count": 10,
   "metadata": {},
   "outputs": [
    {
     "data": {
      "text/plain": [
       "498"
      ]
     },
     "execution_count": 10,
     "metadata": {},
     "output_type": "execute_result"
    }
   ],
   "source": [
    "stocks_list = list(dict.fromkeys(stocks_list))\n",
    "\n",
    "add_stocks = ['VEDL', 'YESBANK', 'SBICARD']\n",
    "skip_stocks = ['BBTC','IRB','M&MFIN','PVR','HATHWAY']\n",
    "\n",
    "stocks_list = stocks_list + add_stocks\n",
    "stocks_list = sorted(set(stocks_list)-(set(skip_stocks)))\n",
    "len(stocks_list)\n",
    "\n",
    "# stocks_list = random.sample(stocks_list, len(stocks_list))"
   ]
  },
  {
   "cell_type": "code",
   "execution_count": 5,
   "metadata": {},
   "outputs": [],
   "source": [
    "start_date = '2020-08-07'\n",
    "end_date = date.today()\n",
    "month = 8"
   ]
  },
  {
   "cell_type": "code",
   "execution_count": null,
   "metadata": {},
   "outputs": [],
   "source": []
  },
  {
   "cell_type": "code",
   "execution_count": null,
   "metadata": {},
   "outputs": [],
   "source": []
  },
  {
   "cell_type": "code",
   "execution_count": 6,
   "metadata": {},
   "outputs": [],
   "source": [
    "# Function to get script data file path if present\n",
    "def get_stock_file_path(script):\n",
    "    for file in glob.glob(data_path + script + '_*.csv'):\n",
    "        file = file.replace(\"\\\\\",\"/\")\n",
    "        return(file)\n",
    "    \n",
    "def get_stock_filename(path):\n",
    "    head, tail = ntpath.split(path)\n",
    "    return tail or ntpath.basename(head)\n",
    "    \n",
    "# Function to check if the script data file already present or not: True or False\n",
    "def stock_data_present(script):\n",
    "    file = get_stock_file_path(script)\n",
    "    if file:\n",
    "        return True\n",
    "    return False\n",
    "\n",
    "# Function to get stock dataframe from script name\n",
    "def stock_df_from_csv(script):\n",
    "    file = get_stock_file_path(script)\n",
    "    stock_df = pd.read_csv(file)\n",
    "    return stock_df\n",
    "\n",
    "# Function to get stock dataframe from script name with Date as Index\n",
    "def get_df_date_index(stock):\n",
    "    df = stock_df_from_csv(stock)\n",
    "    df['Date'] = pd.to_datetime(df['Date'])\n",
    "    df.set_index('Date', drop=True, inplace = True)\n",
    "    df.index.name = None\n",
    "    return df\n",
    "\n"
   ]
  },
  {
   "cell_type": "code",
   "execution_count": 15,
   "metadata": {},
   "outputs": [],
   "source": []
  },
  {
   "cell_type": "code",
   "execution_count": 7,
   "metadata": {},
   "outputs": [
    {
     "name": "stdout",
     "output_type": "stream",
     "text": [
      "Last Updated Date: 2020-09-04 00:00:00\n",
      "First Month Date: 2020-09-01 00:00:00\n",
      "Last Month Date: 2020-09-30 00:00:00\n"
     ]
    }
   ],
   "source": [
    "# GET ALL DATES \n",
    "\n",
    "def last_day_of_month(any_day):\n",
    "    next_month = any_day.replace(day=28) + datetime.timedelta(days=4)  # this will never fail\n",
    "    return next_month - datetime.timedelta(days=next_month.day)\n",
    "\n",
    "def first_day_of_month(any_day):\n",
    "    return any_day.replace(day=1)\n",
    "\n",
    "\n",
    "df = get_df_date_index(\"TCS\")\n",
    "# month_start_date = date.today()\n",
    "# print(month_start_date.month)\n",
    "\n",
    "\n",
    "last_updated_date = df.index.max()\n",
    "\n",
    "last_day_month = last_day_of_month(last_updated_date)\n",
    "first_day_month = first_day_of_month(last_updated_date)\n",
    "\n",
    "print(\"Last Updated Date:\", last_updated_date)\n",
    "print(\"First Month Date:\",first_day_month)\n",
    "print(\"Last Month Date:\",last_day_month)"
   ]
  },
  {
   "cell_type": "code",
   "execution_count": null,
   "metadata": {},
   "outputs": [],
   "source": []
  },
  {
   "cell_type": "code",
   "execution_count": 8,
   "metadata": {},
   "outputs": [
    {
     "name": "stdout",
     "output_type": "stream",
     "text": [
      "C:\\Users\\Anirudh\\Desktop\\Technical_Analysis\\nse_data\\reports\\Gainer_Loser_Report_04-09-2020.csv  Saved to Disk\n"
     ]
    }
   ],
   "source": [
    "# Find top Gainers and Top Losers\n",
    "no_of_values = 10\n",
    "day_change = []\n",
    "\n",
    "\n",
    "for stock in stocks_list:\n",
    "    df = stock_df_from_csv(stock)\n",
    "    df = df.tail(1)\n",
    "    change = (df.Close - df['Prev Close'])*100 / df['Prev Close']\n",
    "    change = float(round(change,2))\n",
    "    day_change.append({\n",
    "                        'Stock':stock,\n",
    "                        \"Change_Percent\":change\n",
    "    })\n",
    "\n",
    "df = pd.DataFrame(day_change)\n",
    "df = df.sort_values(\"Change_Percent\", ascending = False)\n",
    "df = pd.concat([df.head(no_of_values) , df.tail(no_of_values)])\n",
    "\n",
    "datetime_obj = last_updated_date.to_pydatetime().date() \n",
    "gainer_loser_file = reports_path + 'Gainer_Loser_Report_' + datetime_obj.strftime('%d-%m-%Y') + '.csv'\n",
    "df.to_csv(gainer_loser_file, index = True)\n",
    "print(gainer_loser_file, ' Saved to Disk')"
   ]
  },
  {
   "cell_type": "code",
   "execution_count": 23,
   "metadata": {},
   "outputs": [],
   "source": [
    "# df"
   ]
  },
  {
   "cell_type": "code",
   "execution_count": 24,
   "metadata": {},
   "outputs": [],
   "source": [
    "# kkk = df.copy()\n",
    "# print(type(kkk))\n",
    "# def highlight_cols(y):\n",
    "#     #copy df to new - original data are not changed\n",
    "#     print(type(y))\n",
    "#     x = y.copy()\n",
    "#     print(type(x))\n",
    "#     x[x['Change_Percent']>0] = 'background-color: green'\n",
    "# #     x[x[\"Change Percent\"]<=0] = 'background-color: red'\n",
    "# #     x[x[\"Change Percent\"]==0] = 'background-color: yellow'\n",
    "#     return x \n",
    "\n",
    "# k = kkk.style.apply(highlight_cols, axis=1)\n",
    "# print(k)\n",
    "# datetime_obj = last_updated_date.to_pydatetime().date() \n",
    "# gainer_loser_file = reports_path + 'Gainer_Loser_Report_' + datetime_obj.strftime('%d-%m-%Y') + '.xlsx'\n",
    "# k.to_excel(gainer_loser_file, index = True)\n",
    "# print(gainer_loser_file, ' Saved to Disk')"
   ]
  },
  {
   "cell_type": "code",
   "execution_count": null,
   "metadata": {},
   "outputs": [],
   "source": []
  },
  {
   "cell_type": "code",
   "execution_count": 25,
   "metadata": {},
   "outputs": [],
   "source": [
    "# for month in range(1, 13):\n",
    "#     print(last_day_of_month(datetime.date(2020, month, 1)))"
   ]
  },
  {
   "cell_type": "code",
   "execution_count": null,
   "metadata": {},
   "outputs": [],
   "source": []
  }
 ],
 "metadata": {
  "kernelspec": {
   "display_name": "Python 3 (ipykernel)",
   "language": "python",
   "name": "python3"
  },
  "language_info": {
   "codemirror_mode": {
    "name": "ipython",
    "version": 3
   },
   "file_extension": ".py",
   "mimetype": "text/x-python",
   "name": "python",
   "nbconvert_exporter": "python",
   "pygments_lexer": "ipython3",
   "version": "3.9.0"
  },
  "varInspector": {
   "cols": {
    "lenName": 16,
    "lenType": 16,
    "lenVar": 40
   },
   "kernels_config": {
    "python": {
     "delete_cmd_postfix": "",
     "delete_cmd_prefix": "del ",
     "library": "var_list.py",
     "varRefreshCmd": "print(var_dic_list())"
    },
    "r": {
     "delete_cmd_postfix": ") ",
     "delete_cmd_prefix": "rm(",
     "library": "var_list.r",
     "varRefreshCmd": "cat(var_dic_list()) "
    }
   },
   "types_to_exclude": [
    "module",
    "function",
    "builtin_function_or_method",
    "instance",
    "_Feature"
   ],
   "window_display": false
  }
 },
 "nbformat": 4,
 "nbformat_minor": 4
}
