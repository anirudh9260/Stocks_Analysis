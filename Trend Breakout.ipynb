{
 "cells": [
  {
   "cell_type": "code",
   "execution_count": 1,
   "metadata": {},
   "outputs": [],
   "source": [
    "import nsepy\n",
    "from nsepy import get_history, get_index_pe_history\n",
    "from datetime import date, datetime , timedelta\n",
    "import pandas as pd\n",
    "import random\n",
    "import os\n",
    "import ntpath\n",
    "import glob\n",
    "import time\n",
    "import talib\n",
    "import  warnings\n",
    "from ipywidgets import IntProgress\n",
    "warnings.filterwarnings('ignore')\n",
    "warnings.simplefilter('ignore')"
   ]
  },
  {
   "cell_type": "code",
   "execution_count": 2,
   "metadata": {},
   "outputs": [],
   "source": [
    "data_path =  os.path.join(os.getcwd(),\"nse_data\\\\data\\\\\")\n",
    "data_index = os.path.join(os.getcwd(),\"nse_data\\\\index_data\\\\\")\n",
    "dump_path =  os.path.join(os.getcwd(),\"nse_data\\\\dump\\\\\")\n",
    "meta_data =  os.path.join(os.getcwd(),\"nse_data\\\\meta_data\\\\\")\n",
    "reports_path = os.path.join(os.getcwd(),\"nse_data\\\\reports\\\\\")\n",
    "nse_indices = os.path.join(os.getcwd(),\"nse_data\\\\nse_indices\\\\\")\n",
    "# print(nse_indices)"
   ]
  },
  {
   "cell_type": "code",
   "execution_count": 3,
   "metadata": {},
   "outputs": [
    {
     "data": {
      "text/plain": [
       "501"
      ]
     },
     "execution_count": 3,
     "metadata": {},
     "output_type": "execute_result"
    }
   ],
   "source": [
    "nifty100_df = pd.read_csv(os.path.join(nse_indices, \"ind_nifty100list.csv\"))\n",
    "nifty500_df = pd.read_csv(os.path.join(nse_indices, \"ind_nifty500list.csv\"))\n",
    "stocks_list = nifty500_df.Symbol.tolist()\n",
    "len(stocks_list)"
   ]
  },
  {
   "cell_type": "code",
   "execution_count": 4,
   "metadata": {},
   "outputs": [
    {
     "data": {
      "text/plain": [
       "498"
      ]
     },
     "execution_count": 4,
     "metadata": {},
     "output_type": "execute_result"
    }
   ],
   "source": [
    "stocks_list = list(dict.fromkeys(stocks_list))\n",
    "\n",
    "add_stocks = ['VEDL', 'YESBANK']\n",
    "skip_stocks = ['BBTC','IRB','M&MFIN','PVR', 'HATHWAY']\n",
    "\n",
    "stocks_list = stocks_list + add_stocks\n",
    "\n",
    "stocks_list = sorted(set(stocks_list)-(set(skip_stocks)))\n",
    "len(stocks_list)\n",
    "\n",
    "# stocks_list = random.sample(stocks_list, len(stocks_list))\n"
   ]
  },
  {
   "cell_type": "code",
   "execution_count": 5,
   "metadata": {},
   "outputs": [
    {
     "name": "stdout",
     "output_type": "stream",
     "text": [
      "Server updated till:  2021-05-21\n"
     ]
    }
   ],
   "source": [
    "def get_server_last_update_date():\n",
    "    date_for_update = get_history('TCS', date.today()-timedelta(days=10), date.today()+timedelta(days=1), index = False)\n",
    "    date_for_update.reset_index(inplace = True)\n",
    "    return date_for_update.Date.max()\n",
    "\n",
    "server_date = get_server_last_update_date()\n",
    "print(\"Server updated till: \",server_date)\n",
    "\n",
    "start_date = date(2000, 1, 1)\n",
    "end_date = date.today()\n",
    "\n",
    "# start_date = date(2011, 5, 5)\n",
    "# end_date = date(2011, 5, 9)\n",
    "\n"
   ]
  },
  {
   "cell_type": "code",
   "execution_count": null,
   "metadata": {},
   "outputs": [],
   "source": []
  },
  {
   "cell_type": "code",
   "execution_count": 6,
   "metadata": {},
   "outputs": [],
   "source": [
    "# Function to get script data file path if present\n",
    "def get_stock_file_path(script):\n",
    "    for file in glob.glob(data_path + script + '_*.csv'):\n",
    "        file = file.replace(\"\\\\\",\"/\")\n",
    "        return(file)\n",
    "    \n",
    "def get_stock_filename(path):\n",
    "    head, tail = ntpath.split(path)\n",
    "    return tail or ntpath.basename(head)\n",
    "    \n",
    "# Function to check if the script data file already present or not: True or False\n",
    "def stock_data_present(script):\n",
    "    file = get_stock_file_path(script)\n",
    "    if file:\n",
    "        return True\n",
    "    return False\n",
    "\n",
    "# Function to get stock dataframe from script name\n",
    "def stock_df_from_csv(script):\n",
    "    file = get_stock_file_path(script)\n",
    "    stock_df = pd.read_csv(file)\n",
    "    return stock_df\n",
    " \n",
    "# Function to get stock dataframe from script name with Date as Index\n",
    "def get_df_date_index(stock):\n",
    "    df = stock_df_from_csv(stock)\n",
    "    df['Date'] = pd.to_datetime(df['Date'])\n",
    "    df.set_index('Date', drop=True, inplace = True)\n",
    "    df.index.name = None\n",
    "    return df\n",
    "\n",
    "\n",
    "def calculate_sma(df , t = 20 , field = 'Close'):\n",
    "    sma = talib.SMA(df[field], timeperiod = t)\n",
    "    sma.name = 'sma_'+ field +\"_\"+ str(t)\n",
    "    sma = sma.to_frame()\n",
    "    df = df.merge(sma, left_index=True, right_index=True)\n",
    "    return df"
   ]
  },
  {
   "cell_type": "code",
   "execution_count": 7,
   "metadata": {},
   "outputs": [
    {
     "data": {
      "text/plain": [
       "Timestamp('2021-05-21 00:00:00')"
      ]
     },
     "execution_count": 7,
     "metadata": {},
     "output_type": "execute_result"
    }
   ],
   "source": [
    "df = get_df_date_index(\"TCS\")\n",
    "# month_start_date = date.today()\n",
    "# print(month_start_date.month)\n",
    "\n",
    "\n",
    "last_updated_date = df.index.max()\n",
    "last_updated_date"
   ]
  },
  {
   "cell_type": "code",
   "execution_count": 8,
   "metadata": {},
   "outputs": [
    {
     "data": {
      "application/vnd.jupyter.widget-view+json": {
       "model_id": "06db572939d14a1b81faa1d53c71579f",
       "version_major": 2,
       "version_minor": 0
      },
      "text/plain": [
       "IntProgress(value=0, description='Range Bound:', max=498)"
      ]
     },
     "metadata": {},
     "output_type": "display_data"
    }
   ],
   "source": [
    "# Range Bound\n",
    "days_backtest = 22\n",
    "percent_range = 10\n",
    "\n",
    "range_bound = []\n",
    "max_count = len(stocks_list)\n",
    "f = IntProgress(min=0, max=max_count, description='Range Bound:')\n",
    "display(f)\n",
    "\n",
    "for stock in stocks_list:\n",
    "    f.value += 1\n",
    "    stock_df = stock_df_from_csv(stock)\n",
    "    stock_df = stock_df.tail(days_backtest)\n",
    "    high = stock_df.High.max()\n",
    "    low = stock_df.Low.min()\n",
    "    close = stock_df.tail(1).Close.values[0]\n",
    "    if (high-low)/high <= (percent_range/100):\n",
    "        range_bound.append({'Stock':stock,\n",
    "                           'High': high,\n",
    "                           'Low':  low,\n",
    "                           'Close':close,\n",
    "                            'Gap':(high-low)*100/high\n",
    "                           })\n",
    "range_bound = pd.DataFrame(range_bound)\n",
    "range_bound = range_bound.sort_values('Gap')        \n",
    "range_bound = range_bound.reset_index(drop = True)\n",
    "# range_bound"
   ]
  },
  {
   "cell_type": "code",
   "execution_count": 9,
   "metadata": {},
   "outputs": [
    {
     "data": {
      "application/vnd.jupyter.widget-view+json": {
       "model_id": "98da469e592a49d183216b057d07f68c",
       "version_major": 2,
       "version_minor": 0
      },
      "text/plain": [
       "IntProgress(value=0, description='52 Week Breakout:', max=498)"
      ]
     },
     "metadata": {},
     "output_type": "display_data"
    }
   ],
   "source": [
    "# 52 week breakout\n",
    "\n",
    "year_breakout = []\n",
    "\n",
    "max_count = len(stocks_list)\n",
    "f = IntProgress(min=0, max=max_count, description='52 Week Breakout:')\n",
    "display(f)\n",
    "\n",
    "for stock in stocks_list:\n",
    "    f.value += 1\n",
    "    stock_df = stock_df_from_csv(stock)    \n",
    "    stock_df = stock_df.tail(250)\n",
    "    \n",
    "    low = stock_df.iloc[0:-1].Low.min()   \n",
    "    high = stock_df.iloc[0:-1].High.max()    \n",
    "    close = stock_df.tail(1).Close.values[0]\n",
    "    \n",
    "    if close>high:\n",
    "        year_breakout.append({'Stock':stock,\n",
    "                           'Price': high,                           \n",
    "                           'Close':close,\n",
    "                            'Break':\"Up\"\n",
    "                           })\n",
    "    \n",
    "    if close<low:\n",
    "        year_breakout.append({'Stock':stock,\n",
    "                           'Price': low,                           \n",
    "                           'Close':close,\n",
    "                            'Break':\"Down\"\n",
    "                           })\n",
    "        \n",
    "year_breakout = pd.DataFrame(year_breakout)\n",
    "# year_breakout"
   ]
  },
  {
   "cell_type": "code",
   "execution_count": 10,
   "metadata": {},
   "outputs": [
    {
     "data": {
      "application/vnd.jupyter.widget-view+json": {
       "model_id": "5231f7c5f8fc4beb978dec0e47c7a686",
       "version_major": 2,
       "version_minor": 0
      },
      "text/plain": [
       "IntProgress(value=0, description='Regression Line Trend:', max=498)"
      ]
     },
     "metadata": {},
     "output_type": "display_data"
    }
   ],
   "source": [
    "# Regression Line Trends\n",
    "max_count = len(stocks_list)\n",
    "f = IntProgress(min=0, max=max_count, description='Regression Line Trend:')\n",
    "display(f)\n",
    "\n",
    "regression_line_trend = []\n",
    "for stock in stocks_list:\n",
    "    f.value += 1\n",
    "    stock_df = get_df_date_index(stock)   \n",
    "    stock_df = stock_df.tail(100)\n",
    "    stock_df = calculate_sma(stock_df, 20, field = 'High')\n",
    "    stock_df = calculate_sma(stock_df, 20, field = 'Low')\n",
    "    stock_df = stock_df.tail(51)\n",
    "    stock_df= stock_df.rename(columns={'Prev Close': 'Prev_Close', 'Deliverable Volume': 'Deliverable_Volume'})\n",
    "\n",
    "    stock_df['sma_avg'] = (stock_df['sma_High_20']+stock_df['sma_Low_20'])/2\n",
    "    stock_df['sma_avg_high_shift'] = (stock_df['sma_High_20'].shift(periods = 1) +stock_df['sma_Low_20'])/2 \n",
    "    stock_df['avg_diff'] = stock_df['sma_avg']-stock_df['sma_avg_high_shift']\n",
    "    stock_df = stock_df.tail(50)\n",
    "    stock_df = np.round(stock_df, decimals=4)\n",
    "    reg_line_max_value = stock_df.avg_diff.max()\n",
    "    reg_line_min_value = stock_df.avg_diff.min()\n",
    "    \n",
    "    if(reg_line_max_value < 0 ):\n",
    "        regression_line_trend.append({'Stock':stock,                           \n",
    "                                      'Trend': \"Falling Regression\",\n",
    "                                      'Regress_Value': reg_line_max_value\n",
    "                                      })\n",
    "    if(reg_line_min_value > 0 ):\n",
    "        regression_line_trend.append({'Stock':stock,                           \n",
    "                                      'Trend': \"Rising Regression\",\n",
    "                                      'Regress_Value': reg_line_min_value\n",
    "                                      })\n",
    "\n",
    "regression_line_trend = pd.DataFrame(regression_line_trend)\n",
    "regression_line_trend = regression_line_trend.sort_values('Regress_Value', ascending = False) \n",
    "regression_line_trend = regression_line_trend.reset_index(drop = True)"
   ]
  },
  {
   "cell_type": "code",
   "execution_count": 11,
   "metadata": {},
   "outputs": [
    {
     "data": {
      "application/vnd.jupyter.widget-view+json": {
       "model_id": "317159defca04678851ab209cb7ffb54",
       "version_major": 2,
       "version_minor": 0
      },
      "text/plain": [
       "IntProgress(value=0, description='UP/Down Trend:', max=498)"
      ]
     },
     "metadata": {},
     "output_type": "display_data"
    },
    {
     "name": "stdout",
     "output_type": "stream",
     "text": [
      "(395, 2)\n"
     ]
    }
   ],
   "source": [
    "# Uptrend / Downtrend\n",
    "period = 10\n",
    "\n",
    "max_count = len(stocks_list)\n",
    "f = IntProgress(min=0, max=max_count, description='UP/Down Trend:')\n",
    "display(f)\n",
    "\n",
    "trend = []\n",
    "for stock in stocks_list:\n",
    "    f.value += 1\n",
    "    stock_df = stock_df_from_csv(stock)    \n",
    "    stock_df = stock_df.tail(period*3)\n",
    "    \n",
    "    high_1 = stock_df.iloc[-period:].High.max()   \n",
    "    high_2 = stock_df.iloc[-period*2:-period].High.max()    \n",
    "    high_3 = stock_df.iloc[-period*3:-period*2].High.max() \n",
    "    \n",
    "    low_1 = stock_df.iloc[-period:].Low.min()   \n",
    "    low_2 = stock_df.iloc[-period*2:-period].Low.min()  \n",
    "    low_3 = stock_df.iloc[-period*3:-period*2].Low.min()\n",
    "    \n",
    "    if high_1 < high_2 and high_2 < high_3:\n",
    "        trend.append({'Stock':stock,                           \n",
    "                      'Trend':\"Downtrend\"\n",
    "                      })\n",
    "    \n",
    "    if low_1 > low_2 and low_2 > low_3:\n",
    "        trend.append({'Stock':stock,                         \n",
    "                      'Trend':\"Uptrend\"\n",
    "                      })\n",
    "        \n",
    "trend = pd.DataFrame(trend)\n",
    "print(trend.shape)\n",
    "# trend.head(10)"
   ]
  },
  {
   "cell_type": "code",
   "execution_count": 12,
   "metadata": {},
   "outputs": [
    {
     "data": {
      "application/vnd.jupyter.widget-view+json": {
       "model_id": "939e989b83ed4c6aa74dc9d6eb423115",
       "version_major": 2,
       "version_minor": 0
      },
      "text/plain": [
       "IntProgress(value=0, description='UP/Down Trend Breakout:', max=498)"
      ]
     },
     "metadata": {},
     "output_type": "display_data"
    },
    {
     "name": "stdout",
     "output_type": "stream",
     "text": [
      "(6, 2)\n"
     ]
    }
   ],
   "source": [
    "# Uptrend / Downtrend Breakout\n",
    "\n",
    "trend_breakout = []\n",
    "\n",
    "max_count = len(stocks_list)\n",
    "f = IntProgress(min=0, max=max_count, description='UP/Down Trend Breakout:')\n",
    "display(f)\n",
    "\n",
    "for stock in stocks_list:\n",
    "    f.value += 1\n",
    "    stock_df = stock_df_from_csv(stock)    \n",
    "    stock_df = stock_df.tail(period*3+1)\n",
    "    \n",
    "    close = stock_df.tail(1).Close.values[0]\n",
    "    high_1 = stock_df.iloc[-period-1:-1].High.max()   \n",
    "    high_2 = stock_df.iloc[-period*2-1:-period-1].High.max()    \n",
    "    high_3 = stock_df.iloc[-period*3-1:-period*2-1].High.max() \n",
    "     \n",
    "    low_1 = stock_df.iloc[-period-1:-1].Low.min()   \n",
    "    low_2 = stock_df.iloc[-period*2-1:-period-1].Low.min()  \n",
    "    low_3 = stock_df.iloc[-period*3-1:-period*2-1].Low.min()\n",
    "    \n",
    "    if high_1 < high_2 and high_2 < high_3 and close > high_1 :\n",
    "        trend_breakout.append({'Stock':stock,                           \n",
    "                      'Breakout':\"Downtrend Breakout\"\n",
    "                      })\n",
    "    \n",
    "    if low_1 > low_2 and low_2 > low_3 and close < low_1 :\n",
    "        trend_breakout.append({'Stock':stock,                         \n",
    "                      'Breakout': \"Uptrend Breakout\"\n",
    "                      })\n",
    "        \n",
    "trend_breakout = pd.DataFrame(trend_breakout)\n",
    "print(trend_breakout.shape)\n",
    "# trend_breakout.head(10)"
   ]
  },
  {
   "cell_type": "code",
   "execution_count": 13,
   "metadata": {},
   "outputs": [],
   "source": [
    "trend = pd.DataFrame.merge(trend,trend_breakout, how = 'outer', on = \"Stock\")\n",
    "# trend.to_csv(reports_path+\"trend.csv\", index = True)"
   ]
  },
  {
   "cell_type": "code",
   "execution_count": 14,
   "metadata": {},
   "outputs": [
    {
     "name": "stdout",
     "output_type": "stream",
     "text": [
      "C:\\Users\\Anirudh\\Desktop\\Technical_Analysis\\nse_data\\reports\\Trend_Report_21-05-2021.xlsx  Saved to Disk\n"
     ]
    }
   ],
   "source": [
    "datetime_obj = last_updated_date.to_pydatetime().date() \n",
    "trend_file = reports_path + 'Trend_Report_' + datetime_obj.strftime('%d-%m-%Y') + '.xlsx'\n",
    "\n",
    "\n",
    "with pd.ExcelWriter(trend_file) as writer:  \n",
    "    range_bound.to_excel(writer, sheet_name='Range_Bound_Stocks')\n",
    "    regression_line_trend.to_excel(writer, sheet_name='Regression Trend')\n",
    "    year_breakout.to_excel(writer, sheet_name='365 Days Breakout')\n",
    "    trend.to_excel(writer, sheet_name='Trend Breakout')\n",
    "\n",
    "print(trend_file, ' Saved to Disk')"
   ]
  },
  {
   "cell_type": "code",
   "execution_count": null,
   "metadata": {},
   "outputs": [],
   "source": []
  },
  {
   "cell_type": "code",
   "execution_count": null,
   "metadata": {},
   "outputs": [],
   "source": []
  }
 ],
 "metadata": {
  "kernelspec": {
   "display_name": "Python 3 (ipykernel)",
   "language": "python",
   "name": "python3"
  },
  "language_info": {
   "codemirror_mode": {
    "name": "ipython",
    "version": 3
   },
   "file_extension": ".py",
   "mimetype": "text/x-python",
   "name": "python",
   "nbconvert_exporter": "python",
   "pygments_lexer": "ipython3",
   "version": "3.9.0"
  },
  "varInspector": {
   "cols": {
    "lenName": 16,
    "lenType": 16,
    "lenVar": 40
   },
   "kernels_config": {
    "python": {
     "delete_cmd_postfix": "",
     "delete_cmd_prefix": "del ",
     "library": "var_list.py",
     "varRefreshCmd": "print(var_dic_list())"
    },
    "r": {
     "delete_cmd_postfix": ") ",
     "delete_cmd_prefix": "rm(",
     "library": "var_list.r",
     "varRefreshCmd": "cat(var_dic_list()) "
    }
   },
   "types_to_exclude": [
    "module",
    "function",
    "builtin_function_or_method",
    "instance",
    "_Feature"
   ],
   "window_display": false
  }
 },
 "nbformat": 4,
 "nbformat_minor": 4
}
