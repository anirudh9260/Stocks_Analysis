{
 "cells": [
  {
   "cell_type": "code",
   "execution_count": 10,
   "metadata": {},
   "outputs": [],
   "source": [
    "import nsepy\n",
    "from nsepy import get_history, get_index_pe_history\n",
    "from datetime import date, datetime , timedelta\n",
    "import pandas as pd\n",
    "import random\n",
    "import os\n",
    "import ntpath\n",
    "import glob\n",
    "import time\n",
    "import  warnings\n",
    "from ipywidgets import IntProgress\n",
    "warnings.filterwarnings('ignore')\n",
    "warnings.simplefilter('ignore')"
   ]
  },
  {
   "cell_type": "code",
   "execution_count": 11,
   "metadata": {},
   "outputs": [],
   "source": [
    "data_path =  os.path.join(os.getcwd(),\"nse_data\\\\data\\\\\")\n",
    "data_index = os.path.join(os.getcwd(),\"nse_data\\\\index_data\\\\\")\n",
    "dump_path =  os.path.join(os.getcwd(),\"nse_data\\\\dump\\\\\")\n",
    "meta_data =  os.path.join(os.getcwd(),\"nse_data\\\\meta_data\\\\\")\n",
    "reports_path = os.path.join(os.getcwd(),\"nse_data\\\\reports\\\\\")\n",
    "nse_indices = os.path.join(os.getcwd(),\"nse_data\\\\nse_indices\\\\\")\n",
    "# print(nse_indices)"
   ]
  },
  {
   "cell_type": "code",
   "execution_count": 12,
   "metadata": {},
   "outputs": [
    {
     "data": {
      "text/plain": [
       "501"
      ]
     },
     "execution_count": 12,
     "metadata": {},
     "output_type": "execute_result"
    }
   ],
   "source": [
    "nifty500_df = pd.read_csv(os.path.join(nse_indices, \"ind_nifty500list.csv\"))\n",
    "stocks_list = nifty500_df.Symbol.tolist()\n",
    "len(stocks_list)"
   ]
  },
  {
   "cell_type": "code",
   "execution_count": 13,
   "metadata": {},
   "outputs": [],
   "source": [
    "# stocks_list"
   ]
  },
  {
   "cell_type": "code",
   "execution_count": null,
   "metadata": {},
   "outputs": [],
   "source": [
    "stocks_list = list(dict.fromkeys(stocks_list))\n",
    "\n",
    "add_stocks = ['VEDL', 'YESBANK']\n",
    "skip_stocks = ['BBTC','IRB','M&MFIN','PVR', 'HATHWAY','HEXAWARE','']\n",
    "\n",
    "stocks_list = stocks_list + add_stocks\n",
    "\n",
    "stocks_list = sorted(set(stocks_list)-(set(skip_stocks)))\n",
    "len(stocks_list)\n",
    "\n",
    "# stocks_list = random.sample(stocks_list, len(stocks_list))\n"
   ]
  },
  {
   "cell_type": "code",
   "execution_count": 6,
   "metadata": {},
   "outputs": [
    {
     "name": "stdout",
     "output_type": "stream",
     "text": [
      "Server updated till:  2021-06-18\n"
     ]
    }
   ],
   "source": [
    "def get_server_last_update_date():\n",
    "    date_for_update = get_history('TCS', date.today()-timedelta(days=10), date.today()+timedelta(days=1), index = False)\n",
    "    date_for_update.reset_index(inplace = True)\n",
    "    return date_for_update.Date.max()\n",
    "\n",
    "server_date = get_server_last_update_date()\n",
    "print(\"Server updated till: \",server_date)\n",
    "\n",
    "start_date = date(2000, 1, 1)\n",
    "end_date = date.today()\n",
    "\n",
    "# start_date = date(2011, 5, 5)\n",
    "# end_date = date(2011, 5, 9)\n",
    "\n"
   ]
  },
  {
   "cell_type": "code",
   "execution_count": null,
   "metadata": {},
   "outputs": [],
   "source": [
    "if symbol in indices:\n",
    "    path = data_index\n",
    "elif symbol in stocks_list:\n",
    "    path = data_path\n",
    "    \n",
    "    \n",
    "def get_script_file_path(symbol):\n",
    "    for file in glob.glob(path + symbol + '_*.csv'):\n",
    "        file = file.replace(\"\\\\\",\"/\")\n",
    "        return(file)\n",
    "    \n",
    "    \n",
    "def get_script_filename(path):\n",
    "    head, tail = ntpath.split(path)\n",
    "    return tail or ntpath.basename(head)\n",
    "\n",
    "\n",
    "# Function to check if the script data file already present or not: True or False\n",
    "def script_data_present(symbol):\n",
    "    file = get_stock_file_path(symbol)\n",
    "    if file:\n",
    "        return True\n",
    "    return False\n",
    "\n",
    "\n",
    "# Function to get stock dataframe from script name\n",
    "def script_df_from_csv(symbol):\n",
    "    file = get_stock_file_path(symbol)\n",
    "    stock_df = pd.read_csv(file)\n",
    "    return stock_df\n",
    "\n",
    "\n",
    "def script_start_end_date(symbol):\n",
    "    stock_df = script_df_from_csv(symbol)\n",
    "    no_of_rows = stock_df.shape[0]\n",
    "    start_date = pd.to_datetime(stock_df.Date).min()\n",
    "    datetime_obj_s = start_date.to_pydatetime().date()\n",
    "    last_update_date = pd.to_datetime(stock_df.Date).max()\n",
    "    datetime_obj_l = last_update_date.to_pydatetime().date()\n",
    "    return [no_of_rows, datetime_obj_s, datetime_obj_l]"
   ]
  },
  {
   "cell_type": "code",
   "execution_count": 9,
   "metadata": {},
   "outputs": [],
   "source": [
    "indices = [\"NIFTY\", \"NIFTY NEXT 50\", \"NIFTY 100\", \"NIFTY 200\", \"NIFTY 500\"]"
   ]
  },
  {
   "cell_type": "code",
   "execution_count": 10,
   "metadata": {},
   "outputs": [
    {
     "name": "stdout",
     "output_type": "stream",
     "text": [
      "                Open      High       Low     Close     Volume      Turnover\n",
      "Date                                                                       \n",
      "2021-06-07  15725.10  15773.45  15678.10  15751.65  393970049  2.541148e+11\n",
      "2021-06-08  15773.90  15778.80  15680.00  15740.10  378164658  2.417213e+11\n",
      "2021-06-09  15766.30  15800.45  15566.90  15635.35  457855735  2.692649e+11\n",
      "2021-06-10  15692.10  15751.25  15648.50  15737.75  298297041  2.303290e+11\n",
      "2021-06-11  15796.45  15835.55  15749.80  15799.35  363011297  2.459169e+11\n",
      "2021-06-14  15791.40  15823.05  15606.50  15811.85  392862037  2.800150e+11\n",
      "2021-06-15  15866.95  15901.60  15842.40  15869.25  323262818  2.218126e+11\n",
      "2021-06-16  15847.50  15880.85  15742.60  15767.55  340191175  2.250595e+11\n",
      "2021-06-17  15648.30  15769.35  15616.75  15691.40  357649243  2.604847e+11\n",
      "2021-06-18  15756.50  15761.50  15450.90  15683.35  640821642  4.202455e+11\n",
      "                Open      High       Low     Close     Volume      Turnover\n",
      "Date                                                                       \n",
      "2021-06-07  39084.30  39118.85  38904.50  38948.05  889127492  1.181183e+11\n",
      "2021-06-08  39053.50  39150.60  38781.60  39096.75  538792557  1.130977e+11\n",
      "2021-06-09  39200.20  39364.05  38487.45  38734.85  582758336  1.220189e+11\n",
      "2021-06-10  38943.20  39235.80  38885.25  39207.65  494237640  9.427170e+10\n",
      "2021-06-11  39347.45  39399.60  39007.35  39294.85  373521457  9.110140e+10\n",
      "2021-06-14  39046.65  39191.25  38290.25  39121.95  517603097  1.356579e+11\n",
      "2021-06-15  39246.90  39351.60  39172.35  39248.75  280680457  1.027107e+11\n",
      "2021-06-16  39168.10  39310.15  38786.50  38883.10  288171367  9.708020e+10\n",
      "2021-06-17  38496.30  38872.65  38352.05  38519.30  330130648  1.110952e+11\n",
      "2021-06-18  38478.50  38554.90  37479.85  38315.15  455035902  1.820893e+11\n",
      "                Open      High       Low     Close      Volume      Turnover\n",
      "Date                                                                        \n",
      "2021-06-07  16004.05  16042.60  15956.05  16018.60  1283097541  3.722331e+11\n",
      "2021-06-08  16044.55  16049.00  15947.55  16017.20   916957215  3.548190e+11\n",
      "2021-06-09  16046.25  16082.80  15830.65  15904.75  1040614071  3.912838e+11\n",
      "2021-06-10  15966.85  16032.35  15925.70  16021.50   792534681  3.246007e+11\n",
      "2021-06-11  16080.65  16116.10  16019.90  16079.60   736532754  3.370184e+11\n",
      "2021-06-14  16056.45  16093.90  15851.35  16079.70   910465134  4.156729e+11\n",
      "2021-06-15  16134.30  16167.60  16113.60  16136.65   603943275  3.245234e+11\n",
      "2021-06-16  16111.65  16149.25  15998.85  16025.55   628362542  3.221397e+11\n",
      "2021-06-17  15897.60  16024.00  15865.45  15936.20   687779891  3.715799e+11\n",
      "2021-06-18  15988.65  15992.95  15665.25  15915.55  1095857544  6.023348e+11\n",
      "               Open     High      Low    Close      Volume      Turnover\n",
      "Date                                                                    \n",
      "2021-06-07  8336.90  8361.35  8312.75  8348.90  2307521524  5.502447e+11\n",
      "2021-06-08  8365.30  8367.10  8311.10  8354.70  1842043100  5.318181e+11\n",
      "2021-06-09  8374.10  8396.95  8255.70  8295.80  2452050559  6.263584e+11\n",
      "2021-06-10  8332.30  8370.50  8312.40  8365.60  1672067799  5.011202e+11\n",
      "2021-06-11  8398.70  8415.75  8362.70  8394.45  1587081914  4.971357e+11\n",
      "2021-06-14  8382.55  8396.45  8262.25  8389.25  1869999849  5.684755e+11\n",
      "2021-06-15  8416.55  8437.30  8406.90  8421.75  1497022668  4.746309e+11\n",
      "2021-06-16  8409.90  8427.10  8346.60  8361.10  1477649041  4.652217e+11\n",
      "2021-06-17  8293.55  8362.65  8272.10  8307.25  1547217989  5.196262e+11\n",
      "2021-06-18  8334.10  8336.20  8149.45  8286.70  2712081266  7.761791e+11\n",
      "                Open      High       Low     Close      Volume      Turnover\n",
      "Date                                                                        \n",
      "2021-06-07  13454.10  13498.30  13418.50  13479.65  3342703144  6.811408e+11\n",
      "2021-06-08  13510.05  13513.05  13420.55  13496.55  2765882510  6.597198e+11\n",
      "2021-06-09  13532.20  13569.75  13333.85  13396.40  3364690736  7.564256e+11\n",
      "2021-06-10  13458.65  13524.85  13431.25  13517.20  2587040404  6.036137e+11\n",
      "2021-06-11  13577.05  13601.00  13513.85  13563.85  2690887678  6.078283e+11\n",
      "2021-06-14  13551.75  13565.00  13342.40  13554.15  2886671368  6.832779e+11\n",
      "2021-06-15  13601.35  13634.35  13587.75  13607.80  2288096967  5.794146e+11\n",
      "2021-06-16  13595.10  13621.65  13487.15  13510.60  2247315219  5.768575e+11\n",
      "2021-06-17  13405.90  13520.90  13372.40  13425.15  2299073612  6.315873e+11\n",
      "2021-06-18  13471.90  13474.95  13155.55  13386.55  3643105417  8.860541e+11\n"
     ]
    }
   ],
   "source": [
    "for symbol in indices:\n",
    "    nifty = get_history(symbol=symbol, start=date(2021,6,6), end=date(2021,6,18), index=True)\n",
    "    print(nifty)\n",
    "\n",
    "\n",
    "\n"
   ]
  },
  {
   "cell_type": "code",
   "execution_count": null,
   "metadata": {},
   "outputs": [],
   "source": []
  },
  {
   "cell_type": "code",
   "execution_count": null,
   "metadata": {},
   "outputs": [],
   "source": []
  }
 ],
 "metadata": {
  "kernelspec": {
   "display_name": "Python 3 (ipykernel)",
   "language": "python",
   "name": "python3"
  },
  "language_info": {
   "codemirror_mode": {
    "name": "ipython",
    "version": 3
   },
   "file_extension": ".py",
   "mimetype": "text/x-python",
   "name": "python",
   "nbconvert_exporter": "python",
   "pygments_lexer": "ipython3",
   "version": "3.9.0"
  },
  "varInspector": {
   "cols": {
    "lenName": 16,
    "lenType": 16,
    "lenVar": 40
   },
   "kernels_config": {
    "python": {
     "delete_cmd_postfix": "",
     "delete_cmd_prefix": "del ",
     "library": "var_list.py",
     "varRefreshCmd": "print(var_dic_list())"
    },
    "r": {
     "delete_cmd_postfix": ") ",
     "delete_cmd_prefix": "rm(",
     "library": "var_list.r",
     "varRefreshCmd": "cat(var_dic_list()) "
    }
   },
   "types_to_exclude": [
    "module",
    "function",
    "builtin_function_or_method",
    "instance",
    "_Feature"
   ],
   "window_display": false
  }
 },
 "nbformat": 4,
 "nbformat_minor": 4
}
