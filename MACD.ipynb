{
 "cells": [
  {
   "cell_type": "code",
   "execution_count": 14,
   "metadata": {},
   "outputs": [],
   "source": [
    "import glob\n",
    "import numpy as np\n",
    "import pandas as pd\n",
    "from datetime import datetime, date\n",
    "import os\n",
    "import matplotlib.pyplot as plt\n",
    "import plotly.express as px\n",
    "\n",
    "from talib import RSI, BBANDS, MACD\n",
    "\n",
    "import talib"
   ]
  },
  {
   "cell_type": "code",
   "execution_count": 15,
   "metadata": {},
   "outputs": [],
   "source": [
    "data_path =  os.path.join(os.getcwd(),\"nse_data\\\\data\\\\\")\n",
    "data_index = os.path.join(os.getcwd(),\"nse_data\\\\index_data\\\\\")\n",
    "dump_path =  os.path.join(os.getcwd(),\"nse_data\\\\dump\\\\\")\n",
    "meta_data =  os.path.join(os.getcwd(),\"nse_data\\\\meta_data\\\\\")\n",
    "reports_path = os.path.join(os.getcwd(),\"nse_data\\\\reports\\\\\")\n",
    "nse_indices = os.path.join(os.getcwd(),\"nse_data\\\\nse_indices\\\\\")\n",
    "# print(nse_indices)"
   ]
  },
  {
   "cell_type": "code",
   "execution_count": 16,
   "metadata": {},
   "outputs": [
    {
     "data": {
      "text/plain": [
       "501"
      ]
     },
     "execution_count": 16,
     "metadata": {},
     "output_type": "execute_result"
    }
   ],
   "source": [
    "nifty500_df = pd.read_csv(os.path.join(nse_indices, \"ind_nifty500list.csv\"))\n",
    "stocks_list = nifty500_df.Symbol.tolist()\n",
    "len(stocks_list)"
   ]
  },
  {
   "cell_type": "code",
   "execution_count": 17,
   "metadata": {},
   "outputs": [
    {
     "data": {
      "text/plain": [
       "499"
      ]
     },
     "execution_count": 17,
     "metadata": {},
     "output_type": "execute_result"
    }
   ],
   "source": [
    "stocks_list = list(dict.fromkeys(stocks_list))\n",
    "\n",
    "add_stocks = ['VEDL', 'YESBANK', 'SBICARD']\n",
    "skip_stocks = ['BBTC','IRB','M&MFIN','PVR']\n",
    "\n",
    "stocks_list = stocks_list + add_stocks\n",
    "stocks_list = sorted(set(stocks_list)-(set(skip_stocks)))\n",
    "len(stocks_list)\n",
    "\n",
    "# stocks_list = random.sample(stocks_list, len(stocks_list))"
   ]
  },
  {
   "cell_type": "code",
   "execution_count": null,
   "metadata": {},
   "outputs": [],
   "source": []
  },
  {
   "cell_type": "code",
   "execution_count": 29,
   "metadata": {},
   "outputs": [],
   "source": [
    "start_date = '2020-08-01'\n",
    "end_date = date.today()"
   ]
  },
  {
   "cell_type": "code",
   "execution_count": 30,
   "metadata": {},
   "outputs": [],
   "source": [
    "# Function to get script data file path if present\n",
    "def get_stock_file_path(script):\n",
    "    for file in glob.glob(data_path + script + '_*.csv'):\n",
    "        file = file.replace(\"\\\\\",\"/\")\n",
    "        return(file)\n",
    "    \n",
    "def get_stock_filename(path):\n",
    "    head, tail = ntpath.split(path)\n",
    "    return tail or ntpath.basename(head)\n",
    "    \n",
    "# Function to check if the script data file already present or not: True or False\n",
    "def stock_data_present(script):\n",
    "    file = get_stock_file_path(script)\n",
    "    if file:\n",
    "        return True\n",
    "    return False\n",
    "\n",
    "# Function to get stock dataframe from script name\n",
    "def stock_df_from_csv(script):\n",
    "    file = get_stock_file_path(script)\n",
    "    stock_df = pd.read_csv(file)\n",
    "    return stock_df\n",
    "\n",
    "# Function to get stock dataframe from script name with Date as Index\n",
    "def get_df_date_index(stock):\n",
    "    df = stock_df_from_csv(stock)\n",
    "    df['Date'] = pd.to_datetime(df['Date'])\n",
    "    df.set_index('Date', drop=True, inplace = True)\n",
    "    df.index.name = None\n",
    "    return df\n",
    "\n",
    "\n",
    "def calculate_macd(df,  field = 'Close' ):\n",
    "    \n",
    "    macd, macdsignal, macdhist = MACD(df[field], fastperiod=12, slowperiod=26, signalperiod=9)\n",
    "    macd.name, macdsignal.name, macdhist.name = 'macd','macdsignal','macdhist'\n",
    "    macd, macdsignal, macdhist = macd.to_frame(), macdsignal.to_frame(), macdhist.to_frame()\n",
    "\n",
    "    df = df.merge(macd, left_index=True, right_index=True)\n",
    "    df = df.merge(macdsignal, left_index=True, right_index=True)\n",
    "    df = df.merge(macdhist, left_index=True, right_index=True)\n",
    "    return df"
   ]
  },
  {
   "cell_type": "code",
   "execution_count": null,
   "metadata": {},
   "outputs": [],
   "source": [
    "# Function to create MACD Report\n",
    "\n",
    "def macd_report(stocks):\n",
    "    macd_df = []\n",
    "    for stock in stocks:\n",
    "        df = get_df_date_index(stock)\n",
    "        df = calculate_macd(df)        \n",
    "        df = df[start_date:end_date]\n",
    "        df = df[[\"Close\",\"macd\",\"macdsignal\", \"macdhist\"]]\n",
    "        df = np.round(df, decimals=4)\n",
    "        df.index.name =\"Date\"\n",
    "        df = df.reset_index()\n",
    "#         display(df)\n",
    "        for ind in df.index: \n",
    "#             print(ind-1)\n",
    "            if ind+1 < df.shape[0]:\n",
    "                if (df['ema9'][ind] < df['ema26'][ind] ) & (df['ema9'][ind+1] > df['ema26'][ind+1]):\n",
    "#                     print(stock ,df['Date'][ind] , df['sma50'][ind] , df['sma200'][ind] , df['sma50'][ind+1] , df['sma200'][ind+1] , sep = \"\\t\\t\")\n",
    "                    ema_cross_df.append(\n",
    "                                {   'Stock': stock,\n",
    "                                    'Date': df['Date'][ind],\n",
    "                                    'EMA9':df['ema9'][ind],\n",
    "                                    'EMA26':df['ema26'][ind]\n",
    "                                })\n",
    "                    ema_cross_df.append(\n",
    "                                {   'Stock': stock,\n",
    "                                    'Date': df['Date'][ind+1],\n",
    "                                    'EMA9':df['ema9'][ind+1],\n",
    "                                    'EMA26':df['ema26'][ind+1]\n",
    "                                }\n",
    "                        \n",
    "                            )\n",
    "    return pd.DataFrame(ema_cross_df)\n",
    "\n",
    "   "
   ]
  },
  {
   "cell_type": "code",
   "execution_count": null,
   "metadata": {},
   "outputs": [],
   "source": []
  },
  {
   "cell_type": "code",
   "execution_count": null,
   "metadata": {},
   "outputs": [],
   "source": []
  },
  {
   "cell_type": "code",
   "execution_count": null,
   "metadata": {},
   "outputs": [],
   "source": []
  },
  {
   "cell_type": "code",
   "execution_count": null,
   "metadata": {},
   "outputs": [],
   "source": []
  }
 ],
 "metadata": {
  "kernelspec": {
   "display_name": "Python 3 (ipykernel)",
   "language": "python",
   "name": "python3"
  },
  "language_info": {
   "codemirror_mode": {
    "name": "ipython",
    "version": 3
   },
   "file_extension": ".py",
   "mimetype": "text/x-python",
   "name": "python",
   "nbconvert_exporter": "python",
   "pygments_lexer": "ipython3",
   "version": "3.9.0"
  },
  "varInspector": {
   "cols": {
    "lenName": 16,
    "lenType": 16,
    "lenVar": 40
   },
   "kernels_config": {
    "python": {
     "delete_cmd_postfix": "",
     "delete_cmd_prefix": "del ",
     "library": "var_list.py",
     "varRefreshCmd": "print(var_dic_list())"
    },
    "r": {
     "delete_cmd_postfix": ") ",
     "delete_cmd_prefix": "rm(",
     "library": "var_list.r",
     "varRefreshCmd": "cat(var_dic_list()) "
    }
   },
   "types_to_exclude": [
    "module",
    "function",
    "builtin_function_or_method",
    "instance",
    "_Feature"
   ],
   "window_display": false
  }
 },
 "nbformat": 4,
 "nbformat_minor": 4
}
