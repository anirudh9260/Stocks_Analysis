{
 "cells": [
  {
   "cell_type": "code",
   "execution_count": 7,
   "metadata": {},
   "outputs": [],
   "source": [
    "import nsepy\n",
    "from nsepy import get_history, get_index_pe_history\n",
    "from datetime import date, datetime, timedelta\n",
    "import pandas as pd\n",
    "import random\n",
    "import os\n",
    "import ntpath\n",
    "import glob\n",
    "import time\n",
    "import talib\n",
    "import  warnings\n",
    "from ipywidgets import IntProgress\n",
    "from IPython.display import display\n",
    "\n",
    "\n",
    "warnings.filterwarnings('ignore')\n",
    "warnings.simplefilter('ignore')"
   ]
  },
  {
   "cell_type": "code",
   "execution_count": 8,
   "metadata": {},
   "outputs": [],
   "source": [
    "data_path =  os.path.join(os.getcwd(),\"nse_data\\\\data\\\\\")\n",
    "data_index = os.path.join(os.getcwd(),\"nse_data\\\\index_data\\\\\")\n",
    "dump_path =  os.path.join(os.getcwd(),\"nse_data\\\\dump\\\\\")\n",
    "meta_data =  os.path.join(os.getcwd(),\"nse_data\\\\meta_data\\\\\")\n",
    "reports_path = os.path.join(os.getcwd(),\"nse_data\\\\reports\\\\\")\n",
    "nse_indices = os.path.join(os.getcwd(),\"nse_data\\\\nse_indices\\\\\")\n",
    "# print(nse_indices)"
   ]
  },
  {
   "cell_type": "code",
   "execution_count": 9,
   "metadata": {},
   "outputs": [
    {
     "data": {
      "text/plain": [
       "501"
      ]
     },
     "execution_count": 9,
     "metadata": {},
     "output_type": "execute_result"
    }
   ],
   "source": [
    "nifty100_df = pd.read_csv(os.path.join(nse_indices, \"ind_nifty100list.csv\"))\n",
    "nifty500_df = pd.read_csv(os.path.join(nse_indices, \"ind_nifty500list.csv\"))\n",
    "stocks_list = nifty500_df.Symbol.tolist()\n",
    "len(stocks_list)"
   ]
  },
  {
   "cell_type": "code",
   "execution_count": 4,
   "metadata": {},
   "outputs": [
    {
     "data": {
      "text/plain": [
       "498"
      ]
     },
     "execution_count": 4,
     "metadata": {},
     "output_type": "execute_result"
    }
   ],
   "source": [
    "stocks_list = list(dict.fromkeys(stocks_list))\n",
    "\n",
    "add_stocks = ['VEDL', 'YESBANK']\n",
    "skip_stocks = ['BBTC','IRB','M&MFIN','PVR', 'HATHWAY']\n",
    "\n",
    "stocks_list = stocks_list + add_stocks\n",
    "\n",
    "stocks_list = sorted(set(stocks_list)-(set(skip_stocks)))\n",
    "len(stocks_list)\n",
    "\n",
    "# stocks_list = random.sample(stocks_list, len(stocks_list))\n"
   ]
  },
  {
   "cell_type": "code",
   "execution_count": 5,
   "metadata": {},
   "outputs": [
    {
     "name": "stdout",
     "output_type": "stream",
     "text": [
      "Server updated till:  2021-05-21\n"
     ]
    }
   ],
   "source": [
    "def get_server_last_update_date():\n",
    "    date_for_update = get_history('TCS', date.today()-timedelta(days=10), date.today()+timedelta(days=1), index = False)\n",
    "    date_for_update.reset_index(inplace = True)\n",
    "    return date_for_update.Date.max()\n",
    "\n",
    "server_date = get_server_last_update_date()\n",
    "print(\"Server updated till: \",server_date)\n",
    "\n",
    "start_date = date(2000, 1, 1)\n",
    "end_date = date.today()\n",
    "\n",
    "# start_date = date(2011, 5, 5)\n",
    "# end_date = date(2011, 5, 9)\n",
    "\n"
   ]
  },
  {
   "cell_type": "code",
   "execution_count": 6,
   "metadata": {},
   "outputs": [],
   "source": [
    "# Function to get script data file path if present\n",
    "def get_stock_file_path(script):\n",
    "    for file in glob.glob(data_path + script + '_*.csv'):\n",
    "        file = file.replace(\"\\\\\",\"/\")\n",
    "        return(file)\n",
    "    \n",
    "def get_stock_filename(path):\n",
    "    head, tail = ntpath.split(path)\n",
    "    return tail or ntpath.basename(head)\n",
    "    \n",
    "# Function to check if the script data file already present or not: True or False\n",
    "def stock_data_present(script):\n",
    "    file = get_stock_file_path(script)\n",
    "    if file:\n",
    "        return True\n",
    "    return False\n",
    "\n",
    "# Function to get stock dataframe from script name\n",
    "def stock_df_from_csv(script):\n",
    "    file = get_stock_file_path(script)\n",
    "    stock_df = pd.read_csv(file)\n",
    "    return stock_df\n",
    "\n",
    "# Function to get stock dataframe from script name with Date as Index\n",
    "def get_df_date_index(stock):\n",
    "    df = stock_df_from_csv(stock)\n",
    "    df['Date'] = pd.to_datetime(df['Date'])\n",
    "    df.set_index('Date', drop=True, inplace = True)\n",
    "    df.index.name = None\n",
    "    return df"
   ]
  },
  {
   "cell_type": "code",
   "execution_count": 7,
   "metadata": {},
   "outputs": [],
   "source": [
    "# pattern  = request.args.get('pattern', False)\n",
    "# stocks = {}\n",
    "# for row in stock_symbol:\n",
    "#     stocks[row[0]] = {'company': row[1]}\n",
    "#     stocks[row[0]].update ({'symbol': row[0]})\n",
    "    \n",
    "stock_symbols = nifty100_df[[ 'Symbol','Company Name']].values.tolist()   \n",
    "start_date = date(2020, 1, 1)\n",
    "end_date = date.today()\n",
    "patterns_df = pd.read_csv(meta_data + 'patterns.csv')\n",
    "patterns = patterns_df.values.tolist()\n",
    "cs_df = []\n"
   ]
  },
  {
   "cell_type": "code",
   "execution_count": 8,
   "metadata": {},
   "outputs": [
    {
     "data": {
      "application/vnd.jupyter.widget-view+json": {
       "model_id": "b24436878f5f4ef8a9714949ccb443a0",
       "version_major": 2,
       "version_minor": 0
      },
      "text/plain": [
       "IntProgress(value=0)"
      ]
     },
     "metadata": {},
     "output_type": "display_data"
    }
   ],
   "source": [
    "max_count = len(stock_symbols)\n",
    "f = IntProgress(min=0, max=max_count) # instantiate the bar\n",
    "display(f)  # display the bar\n",
    "\n",
    "for stock in stock_symbols:\n",
    "    f.value += 1\n",
    "    symbol = stock[0]\n",
    "    df = get_df_date_index(symbol)\n",
    "    df = df[start_date:end_date]\n",
    "    \n",
    "    for talib_pattern in patterns:  \n",
    "        pattern_function = getattr(talib, talib_pattern[0])\n",
    "        pattern_name = talib_pattern[1]\n",
    "\n",
    "        try:\n",
    "            results = pattern_function(df['Open'], df['High'], df['Low'], df['Close'])\n",
    "            last = results.tail(1).values[0]\n",
    "            \n",
    "            if last>0   :   cs_df.append({  'Stock': symbol,\n",
    "                                'Pattern':pattern_name,\n",
    "                                'Sentiment':'bullish'})\n",
    "            \n",
    "            elif last<0 :   cs_df.append({  'Stock': symbol,\n",
    "                                'Pattern':pattern_name,\n",
    "                                'Sentiment':'bearish'})\n",
    "            \n",
    "        except Exception as e:\n",
    "                print('failed on filename: ', filename)\n",
    "\n",
    "y = pd.DataFrame(cs_df)        "
   ]
  },
  {
   "cell_type": "code",
   "execution_count": 9,
   "metadata": {},
   "outputs": [],
   "source": [
    "def highlight_cols(x):\n",
    "    #copy df to new - original data are not changed\n",
    "    df = x.copy()\n",
    "    df[df[\"Sentiment\"]=='bullish'] = 'background-color: green'\n",
    "    df[df[\"Sentiment\"]=='bearish'] = 'background-color: red'\n",
    "    return df    \n",
    "\n",
    "def print_full(x):\n",
    "    pd.set_option('display.max_rows', len(x))\n",
    "    print(x)\n",
    "    pd.reset_option('display.max_rows')\n",
    "\n",
    "\n",
    "y = y.style.apply(highlight_cols, axis=None)\n",
    "\n"
   ]
  },
  {
   "cell_type": "code",
   "execution_count": 10,
   "metadata": {},
   "outputs": [
    {
     "name": "stdout",
     "output_type": "stream",
     "text": [
      "C:\\Users\\Anirudh\\Desktop\\Technical_Analysis\\nse_data\\reports\\CandleSticks_Patterns_Report_21-05-2021.xlsx  Saved to Disk\n"
     ]
    }
   ],
   "source": [
    "# Candlesticks Patterns Report\n",
    "update_date = pd.to_datetime(server_date)\n",
    "datetime_obj = update_date.to_pydatetime().date() \n",
    "candlestick_file = reports_path + 'CandleSticks_Patterns_Report_' + datetime_obj.strftime('%d-%m-%Y') + '.xlsx'\n",
    "y.to_excel(candlestick_file, index = True)\n",
    "print(candlestick_file, ' Saved to Disk')"
   ]
  },
  {
   "cell_type": "code",
   "execution_count": null,
   "metadata": {},
   "outputs": [],
   "source": []
  }
 ],
 "metadata": {
  "kernelspec": {
   "display_name": "Python 3 (ipykernel)",
   "language": "python",
   "name": "python3"
  },
  "language_info": {
   "codemirror_mode": {
    "name": "ipython",
    "version": 3
   },
   "file_extension": ".py",
   "mimetype": "text/x-python",
   "name": "python",
   "nbconvert_exporter": "python",
   "pygments_lexer": "ipython3",
   "version": "3.9.0"
  },
  "varInspector": {
   "cols": {
    "lenName": 16,
    "lenType": 16,
    "lenVar": 40
   },
   "kernels_config": {
    "python": {
     "delete_cmd_postfix": "",
     "delete_cmd_prefix": "del ",
     "library": "var_list.py",
     "varRefreshCmd": "print(var_dic_list())"
    },
    "r": {
     "delete_cmd_postfix": ") ",
     "delete_cmd_prefix": "rm(",
     "library": "var_list.r",
     "varRefreshCmd": "cat(var_dic_list()) "
    }
   },
   "types_to_exclude": [
    "module",
    "function",
    "builtin_function_or_method",
    "instance",
    "_Feature"
   ],
   "window_display": false
  }
 },
 "nbformat": 4,
 "nbformat_minor": 4
}
