{
 "cells": [
  {
   "cell_type": "code",
   "execution_count": 2,
   "metadata": {},
   "outputs": [],
   "source": [
    "import nsepy\n",
    "from nsepy import get_history, get_index_pe_history\n",
    "from datetime import date, datetime , timedelta\n",
    "import pandas as pd\n",
    "import random\n",
    "import os\n",
    "import ntpath\n",
    "\n",
    "import glob\n",
    "import time\n",
    "import  warnings\n",
    "from ipywidgets import IntProgress\n",
    "warnings.filterwarnings('ignore')\n",
    "warnings.simplefilter('ignore')"
   ]
  },
  {
   "cell_type": "code",
   "execution_count": 3,
   "metadata": {},
   "outputs": [],
   "source": [
    "data_path =  os.path.join(os.getcwd(),\"nse_data\\\\data\\\\\")\n",
    "data_index = os.path.join(os.getcwd(),\"nse_data\\\\index_data\\\\\")\n",
    "dump_path =  os.path.join(os.getcwd(),\"nse_data\\\\dump\\\\\")\n",
    "meta_data =  os.path.join(os.getcwd(),\"nse_data\\\\meta_data\\\\\")\n",
    "reports_path = os.path.join(os.getcwd(),\"nse_data\\\\reports\\\\\")\n",
    "nse_indices = os.path.join(os.getcwd(),\"nse_data\\\\nse_indices\\\\\")\n",
    "# print(nse_indices)"
   ]
  },
  {
   "cell_type": "code",
   "execution_count": 4,
   "metadata": {},
   "outputs": [
    {
     "data": {
      "text/plain": [
       "501"
      ]
     },
     "execution_count": 4,
     "metadata": {},
     "output_type": "execute_result"
    }
   ],
   "source": [
    "# nifty100_df = pd.read_csv(os.path.join(nse_indices, \"ind_nifty100list.csv\"))\n",
    "nifty500_df = pd.read_csv(os.path.join(nse_indices, \"ind_nifty500list.csv\"))\n",
    "stocks_list = nifty500_df.Symbol.tolist()\n",
    "len(stocks_list)"
   ]
  },
  {
   "cell_type": "code",
   "execution_count": 64,
   "metadata": {},
   "outputs": [],
   "source": [
    "# stocks_list"
   ]
  },
  {
   "cell_type": "code",
   "execution_count": null,
   "metadata": {},
   "outputs": [],
   "source": [
    "stocks_list = list(dict.fromkeys(stocks_list))\n",
    "\n",
    "add_stocks = ['VEDL', 'YESBANK']\n",
    "skip_stocks = ['BBTC','IRB','M&MFIN','PVR', 'HATHWAY','HEXAWARE','']\n",
    "\n",
    "stocks_list = stocks_list + add_stocks\n",
    "\n",
    "stocks_list = sorted(set(stocks_list)-(set(skip_stocks)))\n",
    "len(stocks_list)\n",
    "\n",
    "# stocks_list = random.sample(stocks_list, len(stocks_list))\n"
   ]
  },
  {
   "cell_type": "code",
   "execution_count": 6,
   "metadata": {},
   "outputs": [
    {
     "name": "stdout",
     "output_type": "stream",
     "text": [
      "Server updated till:  2021-06-18\n"
     ]
    }
   ],
   "source": [
    "def get_server_last_update_date():\n",
    "    date_for_update = get_history('TCS', date.today()-timedelta(days=10), date.today()+timedelta(days=1), index = False)\n",
    "    date_for_update.reset_index(inplace = True)\n",
    "    return date_for_update.Date.max()\n",
    "\n",
    "server_date = get_server_last_update_date()\n",
    "print(\"Server updated till: \",server_date)\n",
    "\n",
    "start_date = date(2000, 1, 1)\n",
    "end_date = date.today()\n",
    "\n",
    "# start_date = date(2011, 5, 5)\n",
    "# end_date = date(2011, 5, 9)\n",
    "\n"
   ]
  },
  {
   "cell_type": "code",
   "execution_count": 7,
   "metadata": {},
   "outputs": [
    {
     "data": {
      "text/html": [
       "<div>\n",
       "<style scoped>\n",
       "    .dataframe tbody tr th:only-of-type {\n",
       "        vertical-align: middle;\n",
       "    }\n",
       "\n",
       "    .dataframe tbody tr th {\n",
       "        vertical-align: top;\n",
       "    }\n",
       "\n",
       "    .dataframe thead th {\n",
       "        text-align: right;\n",
       "    }\n",
       "</style>\n",
       "<table border=\"1\" class=\"dataframe\">\n",
       "  <thead>\n",
       "    <tr style=\"text-align: right;\">\n",
       "      <th></th>\n",
       "      <th>Symbol</th>\n",
       "      <th>Series</th>\n",
       "      <th>Prev Close</th>\n",
       "      <th>Open</th>\n",
       "      <th>High</th>\n",
       "      <th>Low</th>\n",
       "      <th>Last</th>\n",
       "      <th>Close</th>\n",
       "      <th>VWAP</th>\n",
       "      <th>Volume</th>\n",
       "      <th>Turnover</th>\n",
       "      <th>Trades</th>\n",
       "      <th>Deliverable Volume</th>\n",
       "      <th>%Deliverble</th>\n",
       "    </tr>\n",
       "    <tr>\n",
       "      <th>Date</th>\n",
       "      <th></th>\n",
       "      <th></th>\n",
       "      <th></th>\n",
       "      <th></th>\n",
       "      <th></th>\n",
       "      <th></th>\n",
       "      <th></th>\n",
       "      <th></th>\n",
       "      <th></th>\n",
       "      <th></th>\n",
       "      <th></th>\n",
       "      <th></th>\n",
       "      <th></th>\n",
       "      <th></th>\n",
       "    </tr>\n",
       "  </thead>\n",
       "  <tbody>\n",
       "    <tr>\n",
       "      <th>2021-06-17</th>\n",
       "      <td>DCBBANK</td>\n",
       "      <td>EQ</td>\n",
       "      <td>111.9</td>\n",
       "      <td>111.00</td>\n",
       "      <td>114.45</td>\n",
       "      <td>109.45</td>\n",
       "      <td>110.75</td>\n",
       "      <td>110.70</td>\n",
       "      <td>112.57</td>\n",
       "      <td>4290045</td>\n",
       "      <td>4.829264e+13</td>\n",
       "      <td>30563</td>\n",
       "      <td>1541943</td>\n",
       "      <td>0.3594</td>\n",
       "    </tr>\n",
       "    <tr>\n",
       "      <th>2021-06-18</th>\n",
       "      <td>DCBBANK</td>\n",
       "      <td>EQ</td>\n",
       "      <td>110.7</td>\n",
       "      <td>111.65</td>\n",
       "      <td>112.20</td>\n",
       "      <td>106.00</td>\n",
       "      <td>108.65</td>\n",
       "      <td>108.25</td>\n",
       "      <td>108.71</td>\n",
       "      <td>2012545</td>\n",
       "      <td>2.187876e+13</td>\n",
       "      <td>18466</td>\n",
       "      <td>635417</td>\n",
       "      <td>0.3157</td>\n",
       "    </tr>\n",
       "  </tbody>\n",
       "</table>\n",
       "</div>"
      ],
      "text/plain": [
       "             Symbol Series  Prev Close    Open    High     Low    Last  \\\n",
       "Date                                                                     \n",
       "2021-06-17  DCBBANK     EQ       111.9  111.00  114.45  109.45  110.75   \n",
       "2021-06-18  DCBBANK     EQ       110.7  111.65  112.20  106.00  108.65   \n",
       "\n",
       "             Close    VWAP   Volume      Turnover  Trades  Deliverable Volume  \\\n",
       "Date                                                                            \n",
       "2021-06-17  110.70  112.57  4290045  4.829264e+13   30563             1541943   \n",
       "2021-06-18  108.25  108.71  2012545  2.187876e+13   18466              635417   \n",
       "\n",
       "            %Deliverble  \n",
       "Date                     \n",
       "2021-06-17       0.3594  \n",
       "2021-06-18       0.3157  "
      ]
     },
     "execution_count": 7,
     "metadata": {},
     "output_type": "execute_result"
    }
   ],
   "source": [
    "temp_date = date(2020, 9, 5)\n",
    "x = get_history( 'DCBBANK', temp_date, end_date, index = False)\n",
    "x.tail(2)"
   ]
  },
  {
   "cell_type": "code",
   "execution_count": null,
   "metadata": {},
   "outputs": [],
   "source": []
  }
 ],
 "metadata": {
  "kernelspec": {
   "display_name": "Python 3 (ipykernel)",
   "language": "python",
   "name": "python3"
  },
  "language_info": {
   "codemirror_mode": {
    "name": "ipython",
    "version": 3
   },
   "file_extension": ".py",
   "mimetype": "text/x-python",
   "name": "python",
   "nbconvert_exporter": "python",
   "pygments_lexer": "ipython3",
   "version": "3.9.0"
  },
  "varInspector": {
   "cols": {
    "lenName": 16,
    "lenType": 16,
    "lenVar": 40
   },
   "kernels_config": {
    "python": {
     "delete_cmd_postfix": "",
     "delete_cmd_prefix": "del ",
     "library": "var_list.py",
     "varRefreshCmd": "print(var_dic_list())"
    },
    "r": {
     "delete_cmd_postfix": ") ",
     "delete_cmd_prefix": "rm(",
     "library": "var_list.r",
     "varRefreshCmd": "cat(var_dic_list()) "
    }
   },
   "types_to_exclude": [
    "module",
    "function",
    "builtin_function_or_method",
    "instance",
    "_Feature"
   ],
   "window_display": false
  }
 },
 "nbformat": 4,
 "nbformat_minor": 4
}
